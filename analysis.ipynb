{
 "cells": [
  {
   "cell_type": "code",
   "execution_count": null,
   "metadata": {},
   "outputs": [],
   "source": [
    "from model.calibration import fit_model, check_fit\n",
    "from model.optimisation import optimise_interventions\n",
    "from plotting.plots import plot_future_trajectories, make_intervention_piechart\n",
    "\n",
    "minimised_outcomes = {\n",
    "    \"incidence_per100k\": \"TB incidence in 2040\",\n",
    "    # \"ltbi_prevalence_perc\": \"ltbi\",\n",
    "    # \"tb_deaths\": \"TB mortality in 2040\",\n",
    "    \"cumulative_future_deaths\": \"TB deaths (2024-2040)\",\n",
    "    # \"cumulative_future_paed_deaths\": \"Paediatric TB deaths (2024-2040)\",\n",
    "    # \"years_of_life_lost\": \"Years of life lost (2025-2040)\",\n",
    "}\n",
    "\n",
    "\n",
    "def run_analysis(target_incidence=100):\n",
    "\n",
    "    bcm, mle_params = fit_model(target_incidence=target_incidence)\n",
    "    check_fit(bcm, mle_params)\n",
    "    derived_outputs = {\"baseline\": bcm.run(mle_params | {\"decision_var_trans\": 0., \"decision_var_cdr\": 0., \"decision_var_pt\": 0.}).derived_outputs}\n",
    "\n",
    "    opti_decision_vars = {}\n",
    "    for minimised_indicator in minimised_outcomes:\n",
    "        opti_bcm, opti_params = optimise_interventions(mle_params, minimised_indicator=minimised_indicator)\n",
    "        res = opti_bcm.run(opti_params)\n",
    "        derived_outputs[minimised_indicator] = res.derived_outputs\n",
    "        opti_decision_vars[minimised_indicator] = opti_params\n",
    "\n",
    "    return derived_outputs, opti_decision_vars"
   ]
  },
  {
   "cell_type": "code",
   "execution_count": null,
   "metadata": {},
   "outputs": [],
   "source": [
    "master_derived_outputs, master_opti_decision_vars = {}, {}\n",
    "for incidence in [50, 100, 200, 500, 1000]:\n",
    "    derived_outputs, opti_decision_vars = run_analysis(target_incidence=incidence)\n",
    "    master_derived_outputs[incidence] = derived_outputs\n",
    "    master_opti_decision_vars[incidence] = opti_decision_vars\n"
   ]
  },
  {
   "cell_type": "code",
   "execution_count": null,
   "metadata": {},
   "outputs": [],
   "source": [
    "master_opti_decision_vars[200]"
   ]
  },
  {
   "cell_type": "code",
   "execution_count": null,
   "metadata": {},
   "outputs": [],
   "source": [
    "def get_main_numbers(master_derived_outputs, low_inc=200, high_inc=1000):\n",
    "    for incidence in [low_inc, high_inc]:\n",
    "        print(f\"incidence: {incidence}\")\n",
    "        derived_outputs = master_derived_outputs[incidence]\n",
    "\n",
    "        mortality_when_min_mortality = derived_outputs[\"cumulative_future_deaths\"][\"cumulative_future_deaths\"].loc[2040]\n",
    "        mortality_when_min_incidence = derived_outputs[\"incidence_per100k\"][\"cumulative_future_deaths\"].loc[2040]\n",
    "        perc_greater = 100. * (mortality_when_min_incidence - mortality_when_min_mortality) / mortality_when_min_mortality\n",
    "        print(f\"optimising for TB incidence led to an estimated {round(perc_greater)}% higher cumulative TB mortality compared to minimising cumulative mortality\") \n",
    "\n",
    "        incidence_when_min_mortality = derived_outputs[\"cumulative_future_deaths\"][\"incidence_per100k\"].loc[2040]\n",
    "        incidence_when_min_incidence = derived_outputs[\"incidence_per100k\"][\"incidence_per100k\"].loc[2040]\n",
    "        perc_greater = 100. * (incidence_when_min_mortality - incidence_when_min_incidence) / incidence_when_min_incidence\n",
    "        print(f\"TB incidence in 2040 was only {round(perc_greater)}% higher when minimising cumulative mortality\") \n"
   ]
  },
  {
   "cell_type": "code",
   "execution_count": null,
   "metadata": {},
   "outputs": [],
   "source": [
    "get_main_numbers(master_derived_outputs, 100, 500)"
   ]
  },
  {
   "cell_type": "code",
   "execution_count": null,
   "metadata": {},
   "outputs": [],
   "source": [
    "get_main_numbers(master_derived_outputs, 100, 500)"
   ]
  },
  {
   "cell_type": "code",
   "execution_count": null,
   "metadata": {},
   "outputs": [],
   "source": [
    "master_derived_outputs[100].keys()"
   ]
  },
  {
   "cell_type": "code",
   "execution_count": null,
   "metadata": {},
   "outputs": [],
   "source": [
    "from matplotlib import pyplot as plt\n",
    "\n",
    "sc_titles = {'baseline': 'no intervention', 'incidence_per100k': 'minimising incidence', 'cumulative_future_deaths': 'minimising cumulative deaths'}\n",
    " \n",
    "sc_titles_split = {'incidence_per100k': 'minimising\\nincidence', 'cumulative_future_deaths': 'minimising\\ncumulative\\ndeaths'}\n",
    "sc_colors = {'baseline': 'black', 'incidence_per100k': 'tomato', 'cumulative_future_deaths': 'cornflowerblue'}\n",
    "ls = {'baseline': '--', 'incidence_per100k': '-', 'cumulative_future_deaths': '-'}\n",
    "\n",
    "def plot_abstract_figure(derived_outputs, output=\"incidence_per100k\"):\n",
    "    fig, axs = plt.subplots(1, 2, figsize=(6, 3.5), gridspec_kw={'width_ratios': [5, 2]})\n",
    "\n",
    "    # Add content to the subplots (replace with your data)\n",
    "    xmin = 2023\n",
    "    ymax = 0.\n",
    "    for sc_name, derived_df in derived_outputs.items():\n",
    "        derived_df[output].loc[xmin:].plot(label=sc_titles[sc_name], ax=axs[0], color=sc_colors[sc_name], linestyle=ls[sc_name])\n",
    "        ymax = max(ymax, derived_df[output].loc[xmin:].max())\n",
    "\n",
    "    axs[0].set_ylabel(output_names[output])\n",
    "    axs[0].set_ylim((0, 1.55 * ymax))\n",
    "    axs[0].legend()\n",
    "\n",
    "    # Bar plot\n",
    "    names = [sc_titles_split[sc_name] for sc_name in derived_outputs if sc_name != 'baseline']\n",
    "    values = [derived_outputs[sc_name]['cumulative_future_deaths'].loc[2040] for sc_name in derived_outputs if sc_name != 'baseline']\n",
    "    colors = [sc_colors[sc_name] for sc_name in derived_outputs if sc_name != 'baseline']\n",
    "\n",
    "    axs[1].bar(names, values, color=colors)\n",
    "    axs[1].set_ylabel('TB deaths over 2025-2040')\n",
    "    plt.xticks(rotation=45)\n",
    "    # axs[1].set_title('Panel 2')\n",
    "\n",
    "    # Adjust layout to prevent overlap\n",
    "    plt.tight_layout()\n",
    "\n",
    "    # Show the plot\n",
    "    # plt.show()\n",
    "    plt.savefig('abstract_figure.png', dpi=100) \n",
    "\n",
    "plot_abstract_figure(master_derived_outputs[100])\n"
   ]
  },
  {
   "cell_type": "code",
   "execution_count": null,
   "metadata": {},
   "outputs": [],
   "source": [
    "derived_outputs, opti_decision_vars = run_analysis(target_incidence=50)"
   ]
  },
  {
   "cell_type": "code",
   "execution_count": null,
   "metadata": {},
   "outputs": [],
   "source": [
    "opti_decision_vars"
   ]
  },
  {
   "cell_type": "code",
   "execution_count": null,
   "metadata": {},
   "outputs": [],
   "source": [
    "for sc, opti_vars in opti_decision_vars.items():\n",
    "    print(sc)\n",
    "    print(sum(opti_vars.values()))"
   ]
  },
  {
   "cell_type": "code",
   "execution_count": null,
   "metadata": {},
   "outputs": [],
   "source": [
    "output_names = {\n",
    "    \"incidence_per100k\": \"TB incidence (/100,000/y)\",\n",
    "    \"ltbi_prevalence_perc\": \"LTBI prevalence (%)\",\n",
    "    \"cumulative_future_deaths\": \"Cumulative TB deaths\",\n",
    "    \"cumulative_future_paed_deaths\": \"Cumulative paediatric TB deaths\",\n",
    "\n",
    "}\n",
    "\n",
    "from matplotlib import pyplot as plt\n",
    "\n",
    "\n",
    "def plot_optimised_trajectories(derived_outputs, output=\"incidence_per100k\", ax=None):\n",
    "\n",
    "    if not ax:\n",
    "        fig, ax = plt.subplots(1, 1)\n",
    "\n",
    "    xmin = 2020\n",
    "    ymax = 0.\n",
    "    for sc_name, derived_df in derived_outputs.items():\n",
    "        derived_df[output].loc[xmin:].plot(label=sc_name, )\n",
    "        ymax = max(ymax, derived_df[output].loc[xmin:].max())\n",
    "\n",
    "    ax.set_ylabel(output_names[output])\n",
    "    ax.set_ylim((0, 1.2 * ymax))\n",
    "    ax.legend()\n",
    "\n",
    "\n",
    "plot_optimised_trajectories(derived_outputs)"
   ]
  },
  {
   "cell_type": "code",
   "execution_count": null,
   "metadata": {},
   "outputs": [],
   "source": [
    "plot_optimised_trajectories(master_derived_outputs[100], output=\"incidence_per100k\")\n",
    "plot_optimised_trajectories(master_derived_outputs[100], output=\"cumulative_future_deaths\")"
   ]
  },
  {
   "cell_type": "code",
   "execution_count": null,
   "metadata": {},
   "outputs": [],
   "source": [
    "plot_optimised_trajectories(master_derived_outputs[500], output=\"incidence_per100k\")\n",
    "plot_optimised_trajectories(master_derived_outputs[500], output=\"cumulative_future_deaths\")"
   ]
  },
  {
   "cell_type": "code",
   "execution_count": null,
   "metadata": {},
   "outputs": [],
   "source": [
    "from plotting.plots import make_intervention_piechart\n",
    "for sc_name, opti_vars in opti_decision_vars.items():\n",
    "    ax = make_intervention_piechart(opti_vars)\n",
    "    ax.set_title(sc_name)"
   ]
  },
  {
   "cell_type": "code",
   "execution_count": null,
   "metadata": {},
   "outputs": [],
   "source": []
  },
  {
   "cell_type": "code",
   "execution_count": null,
   "metadata": {},
   "outputs": [],
   "source": [
    "# relative difference in incidence\n",
    "def get_relative_diff(derived_outputs, output, scenarios=[\"incidence_per100k\", \"cumulative_future_deaths\"]):\n",
    "\n",
    "    output_1 = derived_outputs[scenarios[1]][output].loc[2040]\n",
    "    output_0 = derived_outputs[scenarios[0]][output].loc[2040]\n",
    "\n",
    "    print(output)\n",
    "    for sc in scenarios:\n",
    "        print(f\"Minimising {sc}: {derived_outputs[sc][output].loc[2040]}\")\n",
    "\n",
    "\n",
    "    return 100 * (output_1 - output_0) / output_0\n",
    "\n",
    "\n",
    "\n",
    "print(get_relative_diff(derived_outputs, \"incidence_per100k\", [\"cumulative_future_deaths\", \"incidence_per100k\"]))\n",
    "print()\n",
    "print(get_relative_diff(derived_outputs, \"cumulative_future_deaths\", [\"incidence_per100k\", \"cumulative_future_deaths\"]))\n",
    "\n"
   ]
  },
  {
   "cell_type": "code",
   "execution_count": null,
   "metadata": {},
   "outputs": [],
   "source": []
  },
  {
   "cell_type": "code",
   "execution_count": null,
   "metadata": {},
   "outputs": [],
   "source": []
  }
 ],
 "metadata": {
  "kernelspec": {
   "display_name": "summer2",
   "language": "python",
   "name": "python3"
  },
  "language_info": {
   "codemirror_mode": {
    "name": "ipython",
    "version": 3
   },
   "file_extension": ".py",
   "mimetype": "text/x-python",
   "name": "python",
   "nbconvert_exporter": "python",
   "pygments_lexer": "ipython3",
   "version": "3.10.11"
  }
 },
 "nbformat": 4,
 "nbformat_minor": 2
}
