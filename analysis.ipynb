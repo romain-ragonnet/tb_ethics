{
 "cells": [
  {
   "cell_type": "code",
   "execution_count": null,
   "metadata": {},
   "outputs": [],
   "source": [
    "from model.calibration import fit_model, check_fit\n",
    "from model.optimisation import optimise_interventions\n",
    "from plotting.plots import plot_future_trajectories, make_intervention_piechart\n",
    "\n",
    "minimised_outcomes = {\n",
    "    \"incidence_per100k\": \"TB incidence in 2040\",\n",
    "    \"tb_deaths\": \"TB mortality in 2040\",\n",
    "    \"cumulative_future_deaths\": \"TB deaths (2024-2040)\",\n",
    "    \"cumulative_future_paed_deaths\": \"Paediatric TB deaths (2024-2040)\",\n",
    "    \"years_of_life_lost\": \"Years of life lost (2025-2040)\",\n",
    "}\n",
    "\n",
    "\n",
    "def run_analysis(target_incidence=100):\n",
    "\n",
    "    bcm, mle_params = fit_model(target_incidence=target_incidence)\n",
    "    check_fit(bcm, mle_params)\n",
    "    derived_outputs = {\"baseline\": bcm.run(mle_params | {\"decision_var_trans\": 0., \"decision_var_cdr\": 0., \"decision_var_pt\": 0.}).derived_outputs}\n",
    "\n",
    "    opti_decision_vars = {}\n",
    "    for minimised_indicator in minimised_outcomes:\n",
    "        opti_bcm, opti_params = optimise_interventions(mle_params, minimised_indicator=minimised_indicator)\n",
    "        res = opti_bcm.run(opti_params)\n",
    "        derived_outputs[minimised_indicator] = res.derived_outputs\n",
    "        opti_decision_vars[minimised_indicator] = opti_params\n",
    "\n",
    "    return derived_outputs, opti_decision_vars"
   ]
  },
  {
   "cell_type": "code",
   "execution_count": null,
   "metadata": {},
   "outputs": [],
   "source": [
    "derived_outputs, opti_decision_vars = run_analysis(target_incidence=100)"
   ]
  },
  {
   "cell_type": "code",
   "execution_count": null,
   "metadata": {},
   "outputs": [],
   "source": [
    "output_names = {\n",
    "    \"incidence_per100k\": \"TB incidence (/100k/y)\",\n",
    "    \"ltbi_prevalence_perc\": \"LTBI prevalence (%)\",\n",
    "    \"cumulative_future_deaths\": \"Cumulative TB deaths\",\n",
    "    \"cumulative_future_paed_deaths\": \"Cumulative paediatric TB deaths\",\n",
    "\n",
    "}\n",
    "\n",
    "from matplotlib import pyplot as plt\n",
    "\n",
    "\n",
    "def plot_optimised_trajectories(derived_outputs, output=\"incidence_per100k\", ax=None):\n",
    "\n",
    "    if not ax:\n",
    "        fig, ax = plt.subplots(1, 1)\n",
    "\n",
    "    xmin = 2020\n",
    "    ymax = 0.\n",
    "    for sc_name, derived_df in derived_outputs.items():\n",
    "        derived_df[output].loc[xmin:].plot(label=sc_name)\n",
    "        ymax = max(ymax, derived_df[output].loc[xmin:].max())\n",
    "\n",
    "    ax.set_ylabel(output_names[output])\n",
    "    ax.set_ylim((0, 1.2 * ymax))\n",
    "    ax.legend()\n",
    "\n",
    "\n",
    "plot_optimised_trajectories(derived_outputs)"
   ]
  },
  {
   "cell_type": "code",
   "execution_count": null,
   "metadata": {},
   "outputs": [],
   "source": [
    "plot_optimised_trajectories(derived_outputs, output=\"cumulative_future_paed_deaths\")"
   ]
  },
  {
   "cell_type": "code",
   "execution_count": null,
   "metadata": {},
   "outputs": [],
   "source": [
    "plot_optimised_trajectories(derived_outputs, output=\"cumulative_future_deaths\")"
   ]
  },
  {
   "cell_type": "code",
   "execution_count": null,
   "metadata": {},
   "outputs": [],
   "source": [
    "from plotting.plots import make_intervention_piechart\n",
    "for sc_name, opti_vars in opti_decision_vars.items():\n",
    "    ax = make_intervention_piechart(opti_vars)\n",
    "    ax.set_title(sc_name)"
   ]
  },
  {
   "cell_type": "code",
   "execution_count": null,
   "metadata": {},
   "outputs": [],
   "source": []
  }
 ],
 "metadata": {
  "kernelspec": {
   "display_name": "summer2",
   "language": "python",
   "name": "python3"
  },
  "language_info": {
   "codemirror_mode": {
    "name": "ipython",
    "version": 3
   },
   "file_extension": ".py",
   "mimetype": "text/x-python",
   "name": "python",
   "nbconvert_exporter": "python",
   "pygments_lexer": "ipython3",
   "version": "3.10.11"
  }
 },
 "nbformat": 4,
 "nbformat_minor": 2
}
