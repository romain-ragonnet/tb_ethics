{
 "cells": [
  {
   "cell_type": "code",
   "execution_count": null,
   "metadata": {},
   "outputs": [],
   "source": [
    "from model.calibration import fit_model, check_fit\n",
    "from model.optimisation import optimise_interventions\n",
    "from plotting.plots import plot_future_trajectories, make_intervention_piechart\n",
    "\n",
    "\n",
    "def run_analysis(target_incidence=100, minimised_outcomes=[\"incidence_per100k\", \"cumulative_future_deaths\"]):\n",
    "\n",
    "    bcm, mle_params = fit_model(target_incidence=target_incidence)\n",
    "    check_fit(bcm, mle_params)\n",
    "    derived_outputs = {\"baseline\": bcm.run(mle_params | {\"decision_var_trans\": 0., \"decision_var_cdr\": 0., \"decision_var_pt\": 0.}).derived_outputs}\n",
    "\n",
    "    opti_decision_vars = {}\n",
    "    for minimised_indicator in minimised_outcomes:\n",
    "        opti_bcm, opti_params = optimise_interventions(mle_params, minimised_indicator=minimised_indicator)\n",
    "        res = opti_bcm.run(opti_params)\n",
    "        derived_outputs[minimised_indicator] = res.derived_outputs\n",
    "        opti_decision_vars[minimised_indicator] = opti_params\n",
    "\n",
    "    return derived_outputs, opti_decision_vars, mle_params"
   ]
  },
  {
   "cell_type": "code",
   "execution_count": null,
   "metadata": {},
   "outputs": [],
   "source": [
    "from pathlib import Path\n",
    "import pickle\n",
    "\n",
    "def store_analysis_outputs(master_derived_outputs, master_opti_decision_vars, master_mle_params, folder_name = \"test\"):\n",
    "    folder = Path.cwd() / \"store\" / folder_name\n",
    "    folder.mkdir(exist_ok=True)\n",
    "\n",
    "    for data, filename in zip([master_derived_outputs, master_opti_decision_vars, master_mle_params], [\"master_derived_outputs\", \"master_opti_decision_vars\", \"master_mle_params\"]):\n",
    "        full_path = folder / f\"{filename}.pickle\"\n",
    "        with open(full_path, 'wb') as f:\n",
    "            pickle.dump(data, f)\n",
    "\n",
    "\n"
   ]
  },
  {
   "cell_type": "code",
   "execution_count": null,
   "metadata": {},
   "outputs": [],
   "source": [
    "master_derived_outputs, master_opti_decision_vars, master_mle_params = {}, {}, {}\n",
    "for incidence in [50, 100, 200, 500, 1000]:\n",
    "    print(f\"Running for inc={incidence}\")\n",
    "    derived_outputs, opti_decision_vars, mle_params = run_analysis(target_incidence=incidence, minimised_outcomes=[\"incidence_per100k\", \"cumulative_incidence\", \"tb_deaths\", \"cumulative_future_deaths\"])\n",
    "    master_derived_outputs[incidence] = derived_outputs\n",
    "    master_opti_decision_vars[incidence] = opti_decision_vars\n",
    "    master_mle_params[incidence] = mle_params\n"
   ]
  },
  {
   "cell_type": "code",
   "execution_count": null,
   "metadata": {},
   "outputs": [],
   "source": [
    "store_analysis_outputs(master_derived_outputs, master_opti_decision_vars, folder_name = \"test\")"
   ]
  },
  {
   "cell_type": "code",
   "execution_count": null,
   "metadata": {},
   "outputs": [],
   "source": [
    "stored_outputs = load_analysis_outputs(\"test\")\n",
    "master_derived_outputs, master_opti_decision_vars = stored_outputs[\"master_derived_outputs\"], stored_outputs[\"master_opti_decision_vars\"]"
   ]
  },
  {
   "cell_type": "code",
   "execution_count": null,
   "metadata": {},
   "outputs": [],
   "source": [
    "from matplotlib import pyplot as plt\n",
    "import numpy as np\n",
    "\n",
    "from plotting.plots import output_names, intervention_names\n",
    "\n",
    "sc_titles = {\n",
    "    'baseline': 'no intervention', 'incidence_per100k': 'minimising incidence', \n",
    "    'cumulative_future_deaths': 'minimising cumulative deaths',\n",
    "    'cumulative_incidence': 'minimising cumulative incidence',\n",
    "    'tb_deaths': 'minimising mortality'}\n",
    "\n",
    "sc_titles_split = {\n",
    "    'incidence_per100k': 'minimising\\nincidence', 'cumulative_future_deaths': 'minimising\\ncumulative\\ndeaths',\n",
    "    'cumulative_incidence': 'minimising\\ncumulative\\nincidence', 'tb_deaths': 'minimising\\nmortality'\n",
    "    }\n",
    "sc_colors = {'baseline': 'black', 'incidence_per100k': 'tomato', 'cumulative_future_deaths': 'cornflowerblue', 'cumulative_incidence': 'forestgreen', 'tb_deaths': 'orange'}\n",
    "\n",
    "ls = {'baseline': '--', 'incidence_per100k': '-', 'cumulative_future_deaths': ':', 'cumulative_incidence': '-.', 'tb_deaths': '-'}\n",
    "\n",
    "def make_multi_analysis_figure(master_derived_outputs, master_opti_decision_vars):\n",
    "    plt.rcParams['font.family'] = 'Times New Roman'\n",
    "\n",
    "    n_analyses = len(master_derived_outputs)\n",
    "    assert n_analyses > 1, \"Plotting code is not compatible with single analysis\"\n",
    "    fig, axs = plt.subplots(n_analyses, 5, figsize=(15, 3.5 * n_analyses), gridspec_kw={'width_ratios': [1, 6, 5, 2, 2]})\n",
    "\n",
    "    # Analysis title  |  Optimal plan  |  Incidence trajectories  |  Cum TB deaths  |  Cum Paed TB deaths\n",
    "    for i_row, inc in enumerate(master_derived_outputs):\n",
    "        derived_outputs, opti_decision_vars = master_derived_outputs[inc], master_opti_decision_vars[inc]\n",
    "\n",
    "        # Title\n",
    "        ax = axs[i_row][0]\n",
    "        if i_row == 0:\n",
    "            ax.set_title(\"Baseline TB incidence\\n(/100,000 persons/year)\")\n",
    "        ax.text(0.5, 0.5, inc, rotation=0, ha='center', va='center', fontsize=15)\n",
    "        ax.axis(\"off\")\n",
    "\n",
    "        # Optimal intervention plan\n",
    "        ax = axs[i_row][1]\n",
    "        labels = [intervention_names[dec_var.split(\"decision_var_\")[1]].replace(\" \", \"\\n\") for dec_var in list(opti_decision_vars['incidence_per100k'].keys())] \n",
    "        bar_width = 0.35\n",
    "        x_positions = np.arange(len(labels))\n",
    "        offset = 0.\n",
    "        for minimised_indicator, opti_decision_var_dict in opti_decision_vars.items():            \n",
    "            x_pos = [x + offset for x in x_positions]\n",
    "            ax.bar(x_pos, [100.*v for v in opti_decision_var_dict.values()], color=sc_colors[minimised_indicator], width=bar_width/len(opti_decision_vars), edgecolor='grey', label=sc_titles_split[minimised_indicator])\n",
    "            offset += bar_width / len(opti_decision_vars) # 0 if minimised_indicator == 'incidence_per100k' else bar_width\n",
    "\n",
    "\n",
    "        ax.axhline(y=1., color='grey', linestyle='--')\n",
    "        ax.set_title(\"Optimal intervention plan\")\n",
    "        ax.set_xticks([x + bar_width/2 for x in range(len(labels))], labels)\n",
    "        ax.set_ylabel('Intervention coverage (%)')\n",
    "        if i_row == 0:\n",
    "            ax.legend(loc='upper left')\n",
    "\n",
    "        # Incidence trajectories \n",
    "        ax = axs[i_row][2]\n",
    "        xmin = 2023\n",
    "        ymax = 0.\n",
    "        output=\"incidence_per100k\"\n",
    "        for sc_name, derived_df in derived_outputs.items():\n",
    "            derived_df[output].loc[xmin:].plot(label=sc_titles[sc_name], ax=ax, color=sc_colors[sc_name], linestyle=ls[sc_name])\n",
    "            ymax = max(ymax, derived_df[output].loc[xmin:].max())\n",
    "\n",
    "        xtick_years = [2025, 2030, 2035, 2040],\n",
    "        # ax.set_xticks(xtick_years, xtick_years)\n",
    "        ax.set_ylabel(output_names[output])\n",
    "        ax.set_ylim((0, 1.55 * ymax))\n",
    "        ax.legend()\n",
    "\n",
    "        # Bar plots\n",
    "        for j, output in enumerate([\"cumulative_future_deaths\", \"cumulative_future_paed_deaths\"]):\n",
    "            ax = axs[i_row][3 + j]\n",
    "            names = [sc_titles_split[sc_name] for sc_name in derived_outputs if sc_name != 'baseline']\n",
    "            values = [derived_outputs[sc_name][output].loc[2040] for sc_name in derived_outputs if sc_name != 'baseline']\n",
    "            colors = [sc_colors[sc_name] for sc_name in derived_outputs if sc_name != 'baseline']\n",
    "\n",
    "            ax.bar(names, values, color=colors)\n",
    "            ax.set_ylabel(output_names[output])\n",
    "            ax.tick_params(axis='x', labelrotation=45)\n",
    "\n",
    "        # Cum TB deaths\n",
    "        ax = axs[i_row][3]\n",
    "\n",
    "        # Cum Paed TB deaths\n",
    "        ax = axs[i_row][4]\n",
    "        \n",
    "    fig.tight_layout()\n",
    "    \n",
    "    return fig\n",
    "\n",
    "fig = make_multi_analysis_figure(master_derived_outputs, master_opti_decision_vars)\n",
    "plt.savefig('multi.png', dpi=300)\n"
   ]
  },
  {
   "cell_type": "code",
   "execution_count": null,
   "metadata": {},
   "outputs": [],
   "source": [
    "master_opti_decision_vars[200]"
   ]
  },
  {
   "cell_type": "code",
   "execution_count": null,
   "metadata": {},
   "outputs": [],
   "source": [
    "def get_main_numbers(master_derived_outputs, low_inc=200, high_inc=1000):\n",
    "    for incidence in [low_inc, high_inc]:\n",
    "        print(f\"incidence: {incidence}\")\n",
    "        derived_outputs = master_derived_outputs[incidence]\n",
    "\n",
    "        mortality_when_min_mortality = derived_outputs[\"cumulative_future_deaths\"][\"cumulative_future_deaths\"].loc[2040]\n",
    "        mortality_when_min_incidence = derived_outputs[\"incidence_per100k\"][\"cumulative_future_deaths\"].loc[2040]\n",
    "        perc_greater = 100. * (mortality_when_min_incidence - mortality_when_min_mortality) / mortality_when_min_mortality\n",
    "        print(f\"optimising for TB incidence led to an estimated {round(perc_greater)}% higher cumulative TB mortality compared to minimising cumulative mortality\") \n",
    "\n",
    "        incidence_when_min_mortality = derived_outputs[\"cumulative_future_deaths\"][\"incidence_per100k\"].loc[2040]\n",
    "        incidence_when_min_incidence = derived_outputs[\"incidence_per100k\"][\"incidence_per100k\"].loc[2040]\n",
    "        perc_greater = 100. * (incidence_when_min_mortality - incidence_when_min_incidence) / incidence_when_min_incidence\n",
    "        print(f\"TB incidence in 2040 was only {round(perc_greater)}% higher when minimising cumulative mortality\") \n"
   ]
  },
  {
   "cell_type": "code",
   "execution_count": null,
   "metadata": {},
   "outputs": [],
   "source": [
    "get_main_numbers(master_derived_outputs, 100, 500)"
   ]
  },
  {
   "cell_type": "code",
   "execution_count": null,
   "metadata": {},
   "outputs": [],
   "source": [
    "get_main_numbers(master_derived_outputs, 100, 500)"
   ]
  },
  {
   "cell_type": "code",
   "execution_count": null,
   "metadata": {},
   "outputs": [],
   "source": [
    "master_derived_outputs[100].keys()"
   ]
  },
  {
   "cell_type": "code",
   "execution_count": null,
   "metadata": {},
   "outputs": [],
   "source": [
    "from matplotlib import pyplot as plt\n",
    "\n",
    "sc_titles = {'baseline': 'no intervention', 'incidence_per100k': 'minimising incidence', 'cumulative_future_deaths': 'minimising cumulative deaths'}\n",
    " \n",
    "sc_titles_split = {'incidence_per100k': 'minimising\\nincidence', 'cumulative_future_deaths': 'minimising\\ncumulative\\ndeaths'}\n",
    "sc_colors = {'baseline': 'black', 'incidence_per100k': 'tomato', 'cumulative_future_deaths': 'cornflowerblue'}\n",
    "ls = {'baseline': '--', 'incidence_per100k': '-', 'cumulative_future_deaths': '-'}\n",
    "\n",
    "def plot_abstract_figure(derived_outputs, output=\"incidence_per100k\"):\n",
    "    fig, axs = plt.subplots(1, 2, figsize=(6, 3.5), gridspec_kw={'width_ratios': [5, 2]})\n",
    "\n",
    "    # Add content to the subplots (replace with your data)\n",
    "    xmin = 2023\n",
    "    ymax = 0.\n",
    "    for sc_name, derived_df in derived_outputs.items():\n",
    "        derived_df[output].loc[xmin:].plot(label=sc_titles[sc_name], ax=axs[0], color=sc_colors[sc_name], linestyle=ls[sc_name])\n",
    "        ymax = max(ymax, derived_df[output].loc[xmin:].max())\n",
    "\n",
    "    axs[0].set_ylabel(output_names[output])\n",
    "    axs[0].set_ylim((0, 1.55 * ymax))\n",
    "    axs[0].legend()\n",
    "\n",
    "    # Bar plot\n",
    "    names = [sc_titles_split[sc_name] for sc_name in derived_outputs if sc_name != 'baseline']\n",
    "    values = [derived_outputs[sc_name]['cumulative_future_deaths'].loc[2040] for sc_name in derived_outputs if sc_name != 'baseline']\n",
    "    colors = [sc_colors[sc_name] for sc_name in derived_outputs if sc_name != 'baseline']\n",
    "\n",
    "    axs[1].bar(names, values, color=colors)\n",
    "    axs[1].set_ylabel('TB deaths over 2025-2040')\n",
    "    plt.xticks(rotation=45)\n",
    "    # axs[1].set_title('Panel 2')\n",
    "\n",
    "    # Adjust layout to prevent overlap\n",
    "    plt.tight_layout()\n",
    "\n",
    "    # Show the plot\n",
    "    # plt.show()\n",
    "    plt.savefig('abstract_figure.png', dpi=100) \n",
    "\n",
    "plot_abstract_figure(master_derived_outputs[100])\n"
   ]
  },
  {
   "cell_type": "code",
   "execution_count": null,
   "metadata": {},
   "outputs": [],
   "source": [
    "derived_outputs, opti_decision_vars = run_analysis(target_incidence=50)"
   ]
  },
  {
   "cell_type": "code",
   "execution_count": null,
   "metadata": {},
   "outputs": [],
   "source": [
    "opti_decision_vars"
   ]
  },
  {
   "cell_type": "code",
   "execution_count": null,
   "metadata": {},
   "outputs": [],
   "source": [
    "for sc, opti_vars in opti_decision_vars.items():\n",
    "    print(sc)\n",
    "    print(sum(opti_vars.values()))"
   ]
  },
  {
   "cell_type": "code",
   "execution_count": null,
   "metadata": {},
   "outputs": [],
   "source": [
    "output_names = {\n",
    "    \"incidence_per100k\": \"TB incidence (/100,000/y)\",\n",
    "    \"ltbi_prevalence_perc\": \"LTBI prevalence (%)\",\n",
    "    \"cumulative_future_deaths\": \"Cumulative TB deaths\",\n",
    "    \"cumulative_future_paed_deaths\": \"Cumulative paediatric TB deaths\",\n",
    "\n",
    "}\n",
    "\n",
    "from matplotlib import pyplot as plt\n",
    "\n",
    "\n",
    "def plot_optimised_trajectories(derived_outputs, output=\"incidence_per100k\", ax=None):\n",
    "\n",
    "    if not ax:\n",
    "        fig, ax = plt.subplots(1, 1)\n",
    "\n",
    "    xmin = 2020\n",
    "    ymax = 0.\n",
    "    for sc_name, derived_df in derived_outputs.items():\n",
    "        derived_df[output].loc[xmin:].plot(label=sc_name, )\n",
    "        ymax = max(ymax, derived_df[output].loc[xmin:].max())\n",
    "\n",
    "    ax.set_ylabel(output_names[output])\n",
    "    ax.set_ylim((0, 1.2 * ymax))\n",
    "    ax.legend()\n",
    "\n",
    "\n",
    "plot_optimised_trajectories(derived_outputs)"
   ]
  },
  {
   "cell_type": "code",
   "execution_count": null,
   "metadata": {},
   "outputs": [],
   "source": [
    "plot_optimised_trajectories(master_derived_outputs[100], output=\"incidence_per100k\")\n",
    "plot_optimised_trajectories(master_derived_outputs[100], output=\"cumulative_future_deaths\")"
   ]
  },
  {
   "cell_type": "code",
   "execution_count": null,
   "metadata": {},
   "outputs": [],
   "source": [
    "plot_optimised_trajectories(master_derived_outputs[500], output=\"incidence_per100k\")\n",
    "plot_optimised_trajectories(master_derived_outputs[500], output=\"cumulative_future_deaths\")"
   ]
  },
  {
   "cell_type": "code",
   "execution_count": null,
   "metadata": {},
   "outputs": [],
   "source": [
    "from plotting.plots import make_intervention_piechart\n",
    "for sc_name, opti_vars in opti_decision_vars.items():\n",
    "    ax = make_intervention_piechart(opti_vars)\n",
    "    ax.set_title(sc_name)"
   ]
  },
  {
   "cell_type": "code",
   "execution_count": null,
   "metadata": {},
   "outputs": [],
   "source": []
  },
  {
   "cell_type": "code",
   "execution_count": null,
   "metadata": {},
   "outputs": [],
   "source": [
    "# relative difference in incidence\n",
    "def get_relative_diff(derived_outputs, output, scenarios=[\"incidence_per100k\", \"cumulative_future_deaths\"]):\n",
    "\n",
    "    output_1 = derived_outputs[scenarios[1]][output].loc[2040]\n",
    "    output_0 = derived_outputs[scenarios[0]][output].loc[2040]\n",
    "\n",
    "    print(output)\n",
    "    for sc in scenarios:\n",
    "        print(f\"Minimising {sc}: {derived_outputs[sc][output].loc[2040]}\")\n",
    "\n",
    "\n",
    "    return 100 * (output_1 - output_0) / output_0\n",
    "\n",
    "\n",
    "\n",
    "print(get_relative_diff(derived_outputs, \"incidence_per100k\", [\"cumulative_future_deaths\", \"incidence_per100k\"]))\n",
    "print()\n",
    "print(get_relative_diff(derived_outputs, \"cumulative_future_deaths\", [\"incidence_per100k\", \"cumulative_future_deaths\"]))\n",
    "\n"
   ]
  },
  {
   "cell_type": "code",
   "execution_count": null,
   "metadata": {},
   "outputs": [],
   "source": []
  },
  {
   "cell_type": "code",
   "execution_count": null,
   "metadata": {},
   "outputs": [],
   "source": []
  }
 ],
 "metadata": {
  "kernelspec": {
   "display_name": "summer2",
   "language": "python",
   "name": "python3"
  },
  "language_info": {
   "codemirror_mode": {
    "name": "ipython",
    "version": 3
   },
   "file_extension": ".py",
   "mimetype": "text/x-python",
   "name": "python",
   "nbconvert_exporter": "python",
   "pygments_lexer": "ipython3",
   "version": "3.10.11"
  }
 },
 "nbformat": 4,
 "nbformat_minor": 2
}
