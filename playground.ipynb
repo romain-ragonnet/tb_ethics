{
 "cells": [
  {
   "cell_type": "code",
   "execution_count": null,
   "metadata": {},
   "outputs": [],
   "source": [
    "from model.calibration import fit_model, check_fit"
   ]
  },
  {
   "cell_type": "code",
   "execution_count": null,
   "metadata": {},
   "outputs": [],
   "source": [
    "bcm, mle_params = fit_model(target_incidence=100)"
   ]
  },
  {
   "cell_type": "code",
   "execution_count": null,
   "metadata": {},
   "outputs": [],
   "source": [
    "check_fit(bcm, mle_params)"
   ]
  },
  {
   "cell_type": "markdown",
   "metadata": {},
   "source": [
    "# Explore interventions"
   ]
  },
  {
   "cell_type": "code",
   "execution_count": null,
   "metadata": {},
   "outputs": [],
   "source": [
    "from model.optimisation import get_optimisation_bcm\n",
    "from plotting.plots import plot_future_trajectories, intervention_names\n",
    "\n",
    "mle_params = {'effective_contact_rate': 8.71498905955645}\n",
    "\n",
    "opti_bcm = get_optimisation_bcm(mle_params, 1.5)"
   ]
  },
  {
   "cell_type": "code",
   "execution_count": null,
   "metadata": {},
   "outputs": [],
   "source": [
    "from matplotlib import pyplot as plt\n",
    "\n",
    "interventions = ['trans', 'cdr', 'pt']\n",
    "outputs = [\"infection_per100k\", \"incidence_per100k\", \"ltbi_prevalence_perc\", \"ltbi_prevalence_early_perc\", \"ltbi_prevalence_late_perc\", \"prop_incidence_early\"]\n",
    "\n",
    "n_interventions = len(interventions)\n",
    "n_outputs = len(outputs)\n",
    "\n",
    "fig, axs = plt.subplots(n_outputs, n_interventions, figsize=(6*n_interventions, 3.5 * n_outputs))\n",
    "\n",
    "for j, intervention in enumerate(interventions):\n",
    "    dec_vars = {\n",
    "        'decision_var_trans': 0.,\n",
    "        'decision_var_cdr': 0.,\n",
    "        'decision_var_pt': 0.\n",
    "    }\n",
    "    dec_vars[f\"decision_var_{intervention}\"] = 1.\n",
    "    \n",
    "    for i, output in enumerate(outputs):\n",
    "        ax = axs[i,j]\n",
    "        plot_future_trajectories(opti_bcm, dec_vars, output=output,ax=ax)\n",
    "        if i == 0:\n",
    "            ax.set_title(intervention_names[intervention])\n",
    "        ax.set_xticks([2020, 2025, 2030, 2035, 2040])\n",
    "\n",
    "plt.tight_layout()\n",
    "plt.savefig('exploration.png', dpi=100) "
   ]
  },
  {
   "cell_type": "markdown",
   "metadata": {},
   "source": [
    "## OPTIMISATION"
   ]
  },
  {
   "cell_type": "code",
   "execution_count": null,
   "metadata": {},
   "outputs": [],
   "source": [
    "from model.optimisation import optimise_interventions\n",
    "from plotting.plots import plot_future_trajectories, make_intervention_piechart"
   ]
  },
  {
   "cell_type": "code",
   "execution_count": null,
   "metadata": {},
   "outputs": [],
   "source": [
    "opti_bcm, opti_mle_params = optimise_interventions(mle_params, decision_var_sum_threshold=1.5, minimised_indicator=\"years_of_life_lost\")"
   ]
  },
  {
   "cell_type": "code",
   "execution_count": null,
   "metadata": {},
   "outputs": [],
   "source": [
    "opti_mle_params"
   ]
  },
  {
   "cell_type": "code",
   "execution_count": null,
   "metadata": {},
   "outputs": [],
   "source": [
    "plot_future_trajectories(opti_bcm, opti_mle_params, mle_params['effective_contact_rate'], output=\"incidence_per100k\")"
   ]
  },
  {
   "cell_type": "code",
   "execution_count": null,
   "metadata": {},
   "outputs": [],
   "source": [
    "plot_future_trajectories(opti_bcm, opti_mle_params, mle_params['effective_contact_rate'])"
   ]
  },
  {
   "cell_type": "code",
   "execution_count": null,
   "metadata": {},
   "outputs": [],
   "source": [
    "res = opti_bcm.run(opti_mle_params)"
   ]
  },
  {
   "cell_type": "code",
   "execution_count": null,
   "metadata": {},
   "outputs": [],
   "source": [
    "res.derived_outputs.columns"
   ]
  },
  {
   "cell_type": "code",
   "execution_count": null,
   "metadata": {},
   "outputs": [],
   "source": [
    "make_intervention_piechart(opti_mle_params)"
   ]
  }
 ],
 "metadata": {
  "kernelspec": {
   "display_name": "summer2",
   "language": "python",
   "name": "python3"
  },
  "language_info": {
   "codemirror_mode": {
    "name": "ipython",
    "version": 3
   },
   "file_extension": ".py",
   "mimetype": "text/x-python",
   "name": "python",
   "nbconvert_exporter": "python",
   "pygments_lexer": "ipython3",
   "version": "3.10.11"
  }
 },
 "nbformat": 4,
 "nbformat_minor": 2
}
