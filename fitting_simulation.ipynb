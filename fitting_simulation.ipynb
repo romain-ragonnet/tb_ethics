{
 "cells": [
  {
   "cell_type": "code",
   "execution_count": null,
   "metadata": {},
   "outputs": [],
   "source": [
    "from jax import numpy as jnp\n",
    "\n",
    "from summer2 import CompartmentalModel\n",
    "from summer2.parameters import Parameter, Function"
   ]
  },
  {
   "cell_type": "code",
   "execution_count": null,
   "metadata": {},
   "outputs": [],
   "source": [
    "def build_model():\n",
    "\n",
    "    sir_model = CompartmentalModel([0.0,100.0],[\"S\",\"I\",\"R\"],[\"I\"])\n",
    "    sir_model.set_initial_population({\"S\": 999.0, \"I\": 1.0})\n",
    "    sir_model.add_infection_frequency_flow(\"infection\",Parameter(\"contact_rate\"),\"S\",\"I\")\n",
    "    sir_model.add_transition_flow(\"recovery\",Parameter(\"recovery_rate\"),\"I\",\"R\")\n",
    "\n",
    "    incidence = sir_model.request_output_for_flow(\"incidence\", \"infection\")\n",
    "\n",
    "    # Add differential output, with adjustable lag.\n",
    "    def lag_diff_func(output, lag):\n",
    "        lagged_diff = output[lag:] - output[:-lag]\n",
    "        return jnp.insert(lagged_diff, 0, jnp.zeros(lag))\n",
    "\n",
    "    sir_model.request_function_output(\"incidence_diff10\", Function(lag_diff_func, [incidence, 1]))\n",
    "\n",
    "    return sir_model\n",
    "\n",
    "sir_model = build_model()"
   ]
  },
  {
   "cell_type": "code",
   "execution_count": null,
   "metadata": {},
   "outputs": [],
   "source": [
    "parameters = {\n",
    "    \"contact_rate\": 0.3,\n",
    "    \"recovery_rate\": 0.1\n",
    "}\n",
    "sir_model.run(parameters)\n",
    "res = sir_model.get_derived_outputs_df()\n",
    "res['incidence'].plot()"
   ]
  },
  {
   "cell_type": "markdown",
   "metadata": {},
   "source": [
    "# Sample from a known distribution"
   ]
  },
  {
   "cell_type": "code",
   "execution_count": null,
   "metadata": {},
   "outputs": [],
   "source": [
    "import numpy as np\n",
    "import pandas as pd\n",
    "from scipy.stats import truncnorm\n",
    "\n",
    "def sample_from_truncnorm(mean, std_dev, lower_bound, upper_bound, sample_size, name):\n",
    "    a = (lower_bound - mean) / std_dev\n",
    "    b = (upper_bound - mean) / std_dev\n",
    "    samples = truncnorm.rvs(a, b, loc=mean, scale=std_dev, size=sample_size)\n",
    "\n",
    "    return pd.DataFrame(samples, columns=[name])\n",
    "\n",
    "samples = {\n",
    "    \"contact_rate\": sample_from_truncnorm(0.225, 0.005, 0.2, 0.25, 10000, \"contact_rate\"),\n",
    "    \"recovery_rate\": sample_from_truncnorm(0.1, 0.005, 0.05, 0.15, 10000, \"recovery_rate\")\n",
    "}"
   ]
  },
  {
   "cell_type": "code",
   "execution_count": null,
   "metadata": {},
   "outputs": [],
   "source": [
    "import seaborn as sns\n",
    "sns.kdeplot(samples[\"contact_rate\"], fill=True)"
   ]
  },
  {
   "cell_type": "code",
   "execution_count": null,
   "metadata": {},
   "outputs": [],
   "source": [
    "sns.kdeplot(samples[\"recovery_rate\"], fill=True)"
   ]
  },
  {
   "cell_type": "markdown",
   "metadata": {},
   "source": [
    "# Run model forward (i.e. feed the samples to the model)"
   ]
  },
  {
   "cell_type": "code",
   "execution_count": null,
   "metadata": {},
   "outputs": [],
   "source": [
    "from estival.model import BayesianCompartmentalModel\n",
    "import estival.priors as esp\n",
    "import estival.targets as est\n",
    "from estival.sampling import tools as esamp\n",
    "\n",
    "\n",
    "priors = [\n",
    "    esp.UniformPrior(\"contact_rate\", [0, 1]),\n",
    "    esp.UniformPrior(\"recovery_rate\", [0, 1]),\n",
    "]\n",
    "targets = []\n",
    "bcm = BayesianCompartmentalModel(model=sir_model,priors=priors, targets=targets,parameters=parameters)\n",
    "samples_for_estival = [{\"contact_rate\": samples[\"contact_rate\"].iloc[i], \"recovery_rate\": samples[\"recovery_rate\"].iloc[i]} for i in range(len(samples[\"contact_rate\"]))]\n",
    "\n",
    "model_runs = esamp.model_results_for_samples(samples_for_estival, bcm)"
   ]
  },
  {
   "cell_type": "code",
   "execution_count": null,
   "metadata": {},
   "outputs": [],
   "source": [
    "model_runs.results['incidence'].plot(legend=False)"
   ]
  },
  {
   "cell_type": "markdown",
   "metadata": {},
   "source": [
    "## Collect the synthetic data and generate likelihood components"
   ]
  },
  {
   "cell_type": "code",
   "execution_count": null,
   "metadata": {},
   "outputs": [],
   "source": [
    "data_times = list(range(20, 81, 10))\n",
    "len(data_times)"
   ]
  },
  {
   "cell_type": "code",
   "execution_count": null,
   "metadata": {},
   "outputs": [],
   "source": [
    "from jax.scipy.stats import gaussian_kde\n",
    "import jax.numpy as jnp\n",
    "\n",
    "use_diffs = False\n",
    "\n",
    "likelihood_comps = {}\n",
    "for i, t in enumerate(data_times):\n",
    "    if not use_diffs or i == 0:\n",
    "        likelihood_comps[t] = gaussian_kde(jnp.array(model_runs.results['incidence'].loc[t]))\n",
    "    else:\n",
    "        likelihood_comps[t] = gaussian_kde(jnp.array(model_runs.results['incidence_diff10'].loc[t]))"
   ]
  },
  {
   "cell_type": "code",
   "execution_count": null,
   "metadata": {},
   "outputs": [],
   "source": [
    "# Check one likelihood component\n",
    "import numpy as np\n",
    "import matplotlib.pyplot as plt\n",
    "\n",
    "t = 40\n",
    "kde = likelihood_comps[t]\n",
    "x_values = np.linspace(0, 30, 1000)\n",
    "pdf_values = kde(x_values)\n",
    "plt.plot(x_values, pdf_values)\n",
    "\n",
    "model_runs.results['incidence'].loc[t].plot.hist(density=True, bins=50)"
   ]
  },
  {
   "cell_type": "markdown",
   "metadata": {},
   "source": [
    "# Refit the model using the likelihood components derived from synthetic data"
   ]
  },
  {
   "cell_type": "code",
   "execution_count": null,
   "metadata": {},
   "outputs": [],
   "source": [
    "from jax import lax\n",
    "\n",
    "fitted_output = ['incidence'] * len(data_times) if not use_diffs else ['incidence'] + ['incidence_diff10'] * len(data_times)\n",
    "\n",
    "# Flat prior\n",
    "priors = [\n",
    "    esp.UniformPrior(\"contact_rate\", [0.1, 0.3]),\n",
    "    esp.UniformPrior(\"recovery_rate\", [0.01, 0.2])\n",
    "]\n",
    "n_data_points = len(data_times)\n",
    "# Define a custom target using the likelihood components\n",
    "def make_eval_func(t):\n",
    "    def eval_func(modelled, obs, parameters, time_weights):\n",
    "        likelihood_comp = likelihood_comps[t](modelled) \n",
    "        likelihood_comp = jnp.max(jnp.array([likelihood_comp, jnp.array([1.e-300])]))  # to avoid zero values.\n",
    "        return jnp.log(likelihood_comp) / n_data_points\n",
    "\n",
    "    return eval_func\n",
    "\n",
    "targets = [est.CustomTarget(f\"likelihood_comp_{t}\", pd.Series([0.], index=[t]), make_eval_func(t), model_key=fitted_output[i]) for i, t in enumerate(data_times)]\n",
    "\n",
    "refit_bcm = BayesianCompartmentalModel(model=sir_model,priors=priors, targets=targets,parameters=parameters)"
   ]
  },
  {
   "cell_type": "code",
   "execution_count": null,
   "metadata": {},
   "outputs": [],
   "source": [
    "import pymc as pm\n",
    "from estival.wrappers import pymc as epm\n",
    "\n",
    "with pm.Model() as model:    \n",
    "    variables = epm.use_model(refit_bcm)\n",
    "    idata = pm.sample(step=[pm.DEMetropolis(variables)], draws=5000, tune=1000,cores=4,chains=4)  #, initvals = [{'contact_rate': x} for x in [0.1, 0.4 ,0.6 ,0.8]])\n"
   ]
  },
  {
   "cell_type": "code",
   "execution_count": null,
   "metadata": {},
   "outputs": [],
   "source": [
    "import arviz as az"
   ]
  },
  {
   "cell_type": "code",
   "execution_count": null,
   "metadata": {},
   "outputs": [],
   "source": [
    "az.plot_trace(idata)"
   ]
  },
  {
   "cell_type": "code",
   "execution_count": null,
   "metadata": {},
   "outputs": [],
   "source": [
    "posterior_sample = idata.posterior.to_dataframe()['contact_rate'].to_list()\n",
    "sns.kdeplot(samples[\"contact_rate\"], fill=True, label=\"true sample\")\n",
    "sns.kdeplot(posterior_sample, fill=True, label=\"posterior\")\n",
    "plt.legend()"
   ]
  },
  {
   "cell_type": "code",
   "execution_count": null,
   "metadata": {},
   "outputs": [],
   "source": [
    "lls = esamp.likelihood_extras_for_idata(idata, refit_bcm)"
   ]
  },
  {
   "cell_type": "code",
   "execution_count": null,
   "metadata": {},
   "outputs": [],
   "source": [
    "lls['logposterior'].min()"
   ]
  },
  {
   "cell_type": "code",
   "execution_count": null,
   "metadata": {},
   "outputs": [],
   "source": [
    "lls['logposterior'].plot.hist()"
   ]
  },
  {
   "cell_type": "code",
   "execution_count": null,
   "metadata": {},
   "outputs": [],
   "source": [
    "posterior_sample = idata.posterior.to_dataframe()['recovery_rate'].to_list()\n",
    "sns.kdeplot(samples[\"recovery_rate\"], fill=True, label=\"true sample\")\n",
    "sns.kdeplot(posterior_sample, fill=True, label=\"posterior\")\n",
    "plt.legend()"
   ]
  },
  {
   "cell_type": "code",
   "execution_count": null,
   "metadata": {},
   "outputs": [],
   "source": [
    "posterior_model_runs = esamp.model_results_for_samples(idata, refit_bcm)"
   ]
  },
  {
   "cell_type": "code",
   "execution_count": null,
   "metadata": {},
   "outputs": [],
   "source": [
    "posterior_model_runs.results['incidence'].plot(legend=False)"
   ]
  },
  {
   "cell_type": "code",
   "execution_count": null,
   "metadata": {},
   "outputs": [],
   "source": [
    "model_runs.results['incidence'].plot(legend=False)"
   ]
  },
  {
   "cell_type": "code",
   "execution_count": null,
   "metadata": {},
   "outputs": [],
   "source": []
  },
  {
   "cell_type": "code",
   "execution_count": null,
   "metadata": {},
   "outputs": [],
   "source": [
    "import pandas as pd\n",
    "import numpy as np\n",
    "\n",
    "def create_grid(x_range, y_range, step, names):\n",
    "    x_values = np.arange(x_range[0], x_range[1] + step, step)\n",
    "    y_values = np.arange(y_range[0], y_range[1] + step, step)\n",
    "    X, Y = np.meshgrid(x_values, y_values)\n",
    "    grid_df = pd.DataFrame({names[\"x\"]: X.ravel(), names[\"y\"]: Y.ravel()})\n",
    "    return grid_df\n",
    "\n",
    "# Define ranges and step size\n",
    "x_range = (0.1, 0.4)\n",
    "y_range = (0.05, .25)\n",
    "step = .001\n",
    "\n",
    "# Create grid DataFrame\n",
    "grid_df = create_grid(x_range, y_range, step, names={\"x\": \"contact_rate\", \"y\": \"recovery_rate\"})\n"
   ]
  },
  {
   "cell_type": "code",
   "execution_count": null,
   "metadata": {},
   "outputs": [],
   "source": [
    "ll_outputs = esamp.likelihood_extras_for_samples(grid_df, refit_bcm)"
   ]
  },
  {
   "cell_type": "code",
   "execution_count": null,
   "metadata": {},
   "outputs": [],
   "source": [
    "idx = grid_df['logposterior'].idxmax()\n",
    "grid_df.iloc[idx]"
   ]
  },
  {
   "cell_type": "code",
   "execution_count": null,
   "metadata": {},
   "outputs": [],
   "source": [
    "grid_df_tip = grid_df[grid_df['logposterior'] > -1]\n",
    "fig = px.scatter_3d(grid_df_tip, x='contact_rate', y='recovery_rate', z='logposterior', opacity=0.5, color='logposterior')\n",
    "fig.update_traces(mode='markers', marker=dict(size=5))\n",
    "fig.show()"
   ]
  },
  {
   "cell_type": "code",
   "execution_count": null,
   "metadata": {},
   "outputs": [],
   "source": [
    "import plotly.express as px\n",
    "\n",
    "grid_df['logposterior'] = ll_outputs['logposterior']\n",
    "fig = px.scatter_3d(grid_df, x='contact_rate', y='recovery_rate', z='logposterior', opacity=0.5, color='logposterior')\n",
    "fig.update_traces(mode='markers', marker=dict(size=5))\n",
    "fig.show()"
   ]
  },
  {
   "cell_type": "code",
   "execution_count": null,
   "metadata": {},
   "outputs": [],
   "source": [
    "fig = px.density_heatmap(grid_df, x='contact_rate', y='recovery_rate', z='logposterior')\n",
    "fig.show()"
   ]
  },
  {
   "cell_type": "code",
   "execution_count": null,
   "metadata": {},
   "outputs": [],
   "source": [
    "px.density_contour?\n"
   ]
  },
  {
   "cell_type": "code",
   "execution_count": null,
   "metadata": {},
   "outputs": [],
   "source": []
  }
 ],
 "metadata": {
  "kernelspec": {
   "display_name": "summer2",
   "language": "python",
   "name": "python3"
  },
  "language_info": {
   "codemirror_mode": {
    "name": "ipython",
    "version": 3
   },
   "file_extension": ".py",
   "mimetype": "text/x-python",
   "name": "python",
   "nbconvert_exporter": "python",
   "pygments_lexer": "ipython3",
   "version": "3.10.11"
  }
 },
 "nbformat": 4,
 "nbformat_minor": 2
}
