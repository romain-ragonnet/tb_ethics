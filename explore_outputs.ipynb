{
 "cells": [
  {
   "cell_type": "code",
   "execution_count": null,
   "metadata": {},
   "outputs": [],
   "source": [
    "from pathlib import Path\n",
    "import pickle\n",
    "\n",
    "def load_analysis_outputs(folder_name = \"test\"):\n",
    "    folder = Path.cwd() / \"store\" / folder_name\n",
    "    outputs = {}\n",
    "    for filename in [\"master_derived_outputs\", \"master_opti_decision_vars\"]: #, \"master_mle_params\"]: \n",
    "        full_path = folder / f\"{filename}.pickle\"\n",
    "        with open(full_path, \"rb\") as f:\n",
    "            outputs[filename] = pickle.load(f)\n",
    "\n",
    "    return outputs\n",
    "\n",
    "stored_outputs = load_analysis_outputs(\"test\")\n",
    "master_derived_outputs, master_opti_decision_vars = stored_outputs[\"master_derived_outputs\"], stored_outputs[\"master_opti_decision_vars\"]"
   ]
  },
  {
   "cell_type": "code",
   "execution_count": null,
   "metadata": {},
   "outputs": [],
   "source": [
    "def print_optimal_plan(plan_dict):\n",
    "    s = \" / \".join([f\"{intervention_names[key.split('decision_var_')[1]]}: {round(100. * val)}%\" for key, val in plan_dict.items()])\n",
    "    print(s)"
   ]
  },
  {
   "cell_type": "code",
   "execution_count": null,
   "metadata": {},
   "outputs": [],
   "source": [
    "from matplotlib import pyplot as plt\n",
    "from plotting.plots import output_names, intervention_names\n",
    "\n",
    "incidence = 100\n",
    "compared_objs = ['incidence_per100k', 'cumulative_incidence']\n",
    "outputs = [\"infection_per100k\", \"ltbi_prevalence_perc\", \"incidence_per100k\"]\n",
    "xmin = 2023\n",
    "\n",
    "print(\"Optimal plans:\")\n",
    "for obj in compared_objs:\n",
    "    print(obj)\n",
    "    print_optimal_plan(master_opti_decision_vars[incidence][obj])\n",
    "\n",
    "for output in outputs:\n",
    "    fig, ax = plt.subplots(1, 1)  \n",
    "  \n",
    "    ymax = 0.\n",
    "    for obj in compared_objs:\n",
    "        derived_df = master_derived_outputs[incidence][obj]\n",
    "        derived_df[output].loc[xmin:].plot(label=obj)\n",
    "        ymax = max(ymax, derived_df[output].loc[xmin:].max())\n",
    "\n",
    "    ax.set_ylabel(output_names[output])\n",
    "    ax.set_ylim((0, 1.2 * ymax))\n",
    "    ax.legend()"
   ]
  },
  {
   "cell_type": "code",
   "execution_count": null,
   "metadata": {},
   "outputs": [],
   "source": []
  }
 ],
 "metadata": {
  "kernelspec": {
   "display_name": "summer2",
   "language": "python",
   "name": "python3"
  },
  "language_info": {
   "codemirror_mode": {
    "name": "ipython",
    "version": 3
   },
   "file_extension": ".py",
   "mimetype": "text/x-python",
   "name": "python",
   "nbconvert_exporter": "python",
   "pygments_lexer": "ipython3",
   "version": "3.10.11"
  }
 },
 "nbformat": 4,
 "nbformat_minor": 2
}
