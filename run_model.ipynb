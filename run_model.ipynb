{
 "cells": [
  {
   "cell_type": "code",
   "execution_count": null,
   "metadata": {},
   "outputs": [],
   "source": [
    "# from model.model import build_model\n",
    "from model.calibration import get_bcm\n",
    "from estival.wrappers.nevergrad import optimize_model"
   ]
  },
  {
   "cell_type": "code",
   "execution_count": null,
   "metadata": {},
   "outputs": [],
   "source": [
    "fixed_params = {\n",
    "    \"time_start\": 1800,\n",
    "    \"time_end\": 2040,\n",
    "    \"time_step\": 1,\n",
    "\n",
    "    \"start_population\": 1000000,\n",
    "    \"crude_birth_rate\": 17. / 1000.,\n",
    "\n",
    "    \"early_activation_rate\": {\n",
    "        \"0\": 2.4107,\n",
    "        \"5\": 0.9862,\n",
    "        \"15\": 0.0986\n",
    "    },\n",
    "    \"late_activation_rate\": {\n",
    "        \"0\": 6.939769e-09,\n",
    "        \"5\": 0.0023,\n",
    "        \"15\": 0.0012\n",
    "    },\n",
    "    \"stabilisation_rate\":{\n",
    "        \"0\": 4.383,\n",
    "        \"5\": 4.383,\n",
    "        \"15\": 1.972\n",
    "    },\n",
    "\n",
    "    \"self_recovery_rate\": 0.16,\n",
    "    \"tb_mortality_rate\": 0.130,\n",
    "    \"background_mortality_rate\":{  # Vietnam in 2018, extracted using get_death_rates_by_agegroup from https://github.com/monash-emu/AuTuMN/blob/master/autumn/core/inputs/demography/queries.py \n",
    "        '0': 0.0043347634430972014,\n",
    "        '5': 0.0005100562239187423,\n",
    "        '15': 0.0013469744398241523,\n",
    "        '40': 0.005814942133889755,\n",
    "        '60': 0.025162329043120622,\n",
    "        '75': 0.14380537779630256,\n",
    "    },\n",
    "\n",
    "    \"rr_reinfection\": .20,\n",
    "\n",
    "    \"CDR_2000\": 0.60,\n",
    "    \"TSR\": 0.85,\n",
    "\n",
    "    \"intervention_time\": 2025\n",
    "\n",
    "}"
   ]
  },
  {
   "cell_type": "code",
   "execution_count": null,
   "metadata": {},
   "outputs": [],
   "source": [
    "bcm = get_bcm(fixed_params, target_incidence=200)"
   ]
  },
  {
   "cell_type": "code",
   "execution_count": null,
   "metadata": {},
   "outputs": [],
   "source": [
    "orunner = optimize_model(bcm, num_workers=8)\n",
    "rec = orunner.minimize(1000)\n",
    "mle_params = rec.value[1]"
   ]
  },
  {
   "cell_type": "code",
   "execution_count": null,
   "metadata": {},
   "outputs": [],
   "source": [
    "mle_params"
   ]
  },
  {
   "cell_type": "code",
   "execution_count": null,
   "metadata": {},
   "outputs": [],
   "source": [
    "res = bcm.run(mle_params)\n",
    "derived_df = res.derived_outputs"
   ]
  },
  {
   "cell_type": "code",
   "execution_count": null,
   "metadata": {},
   "outputs": [],
   "source": [
    "derived_df['incidence_per100k'].plot()"
   ]
  },
  {
   "cell_type": "code",
   "execution_count": null,
   "metadata": {},
   "outputs": [],
   "source": [
    "derived_df['total_population'].plot()"
   ]
  },
  {
   "cell_type": "code",
   "execution_count": null,
   "metadata": {},
   "outputs": [],
   "source": []
  }
 ],
 "metadata": {
  "kernelspec": {
   "display_name": "summer2",
   "language": "python",
   "name": "python3"
  },
  "language_info": {
   "codemirror_mode": {
    "name": "ipython",
    "version": 3
   },
   "file_extension": ".py",
   "mimetype": "text/x-python",
   "name": "python",
   "nbconvert_exporter": "python",
   "pygments_lexer": "ipython3",
   "version": "3.10.11"
  }
 },
 "nbformat": 4,
 "nbformat_minor": 2
}
